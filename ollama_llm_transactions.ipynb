{
 "cells": [
  {
   "cell_type": "code",
   "execution_count": 2,
   "id": "1778ebca-a6cb-430d-a0e5-bcedf90aafe7",
   "metadata": {},
   "outputs": [],
   "source": [
    "#!pip install langchain_community"
   ]
  },
  {
   "cell_type": "code",
   "execution_count": 1,
   "id": "f50d5281-37dd-40ae-8a47-efc5e76bd9ab",
   "metadata": {},
   "outputs": [
    {
     "name": "stderr",
     "output_type": "stream",
     "text": [
      "/Users/andrewloo/Library/Python/3.9/lib/python/site-packages/urllib3/__init__.py:35: NotOpenSSLWarning: urllib3 v2 only supports OpenSSL 1.1.1+, currently the 'ssl' module is compiled with 'LibreSSL 2.8.3'. See: https://github.com/urllib3/urllib3/issues/3020\n",
      "  warnings.warn(\n"
     ]
    }
   ],
   "source": [
    "from langchain_community.llms import Ollama"
   ]
  },
  {
   "cell_type": "code",
   "execution_count": 2,
   "id": "f4229e3c-af09-45c1-b2e5-d8ff6d813faf",
   "metadata": {},
   "outputs": [],
   "source": [
    "ollama = Ollama(model=\"llama2\")"
   ]
  },
  {
   "cell_type": "code",
   "execution_count": 10,
   "id": "a181e009-b9d2-456a-99ba-a3c22dc486fe",
   "metadata": {},
   "outputs": [],
   "source": [
    "import pandas as pd\n",
    "import_df = pd.read_csv(\"chase.csv\")\n",
    "import_df.reset_index(inplace=True)"
   ]
  },
  {
   "cell_type": "code",
   "execution_count": 11,
   "id": "bb8e22a8-01a9-4055-925b-e3b1267a3bec",
   "metadata": {},
   "outputs": [],
   "source": [
    "new_column_order = [\n",
    "    'Details', 'Posting Date', 'Description',\n",
    "    'Amount', 'Type', 'Balance', 'Check or Slip #',''\n",
    "]"
   ]
  },
  {
   "cell_type": "code",
   "execution_count": 12,
   "id": "29ed02ff-c623-4cd9-ba41-3aacb6cac588",
   "metadata": {},
   "outputs": [],
   "source": [
    "import_df.columns = new_column_order"
   ]
  },
  {
   "cell_type": "code",
   "execution_count": 13,
   "id": "4f9f60cf-08ca-4275-a3ba-f07b0746a09d",
   "metadata": {},
   "outputs": [],
   "source": [
    "del import_df['']\n",
    "del import_df['Check or Slip #']"
   ]
  },
  {
   "cell_type": "code",
   "execution_count": 14,
   "id": "0f168d85-ac04-4477-917f-330d36f1c908",
   "metadata": {},
   "outputs": [],
   "source": [
    "clean_df = import_df"
   ]
  }
 ],
 "metadata": {
  "kernelspec": {
   "display_name": "Python 3 (ipykernel)",
   "language": "python",
   "name": "python3"
  },
  "language_info": {
   "codemirror_mode": {
    "name": "ipython",
    "version": 3
   },
   "file_extension": ".py",
   "mimetype": "text/x-python",
   "name": "python",
   "nbconvert_exporter": "python",
   "pygments_lexer": "ipython3",
   "version": "3.9.6"
  }
 },
 "nbformat": 4,
 "nbformat_minor": 5
}
